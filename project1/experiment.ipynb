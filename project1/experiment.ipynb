{
 "cells": [
  {
   "cell_type": "code",
   "execution_count": 5,
   "metadata": {},
   "outputs": [
    {
     "data": {
      "text/html": [
       "<style>.joystick_focused{ cursor:grabbing !important;}    .joystick_background{user-select: none;        background: #fff3f3;        border: 1px solid #ffa29e;        border-radius: 50%;        height: 12em;        width: 12em;    margin:2.5em;}    .joystick_stick{cursor:grab; user-select: none;        background: #F74138;        border-radius: 50%;        box-shadow: 0.375em 0.375em 0 0 rgba(15, 28, 63, 0.125);        height: 5em;        width: 5em;        transform: translate(50%,50%);    }</style><div><div id=\"joystick_background_2D2D188D4F9F26\" class=\"joystick_background\">    <div id=\"joystick_stick_2D2D188D4F9F26\" class=\"joystick_stick\" style=\"position:absolute\" onmousedown=\"start_joystick_2D2D188D4F9F26(this); joystick_focus_2D2D188D4F9F26(this);\" ondrag=\"joystick_2D2D188D4F9F26(e)\" onmouseup=\"reset_joystick_2D2D188D4F9F26(this); joystick_disfocus_2D2D188D4F9F26(this);\"></div></div></div><script> X=0; Y=0; function joystick_focus_2D2D188D4F9F26(e){ e.classList.add(\"joystick_focused\");} function joystick_disfocus_2D2D188D4F9F26(e){ e.classList.remove(\"joystick_focused\");}    var port_2D2D188D4F9F26=8901;    var sock_2D2D188D4F9F26=new WebSocket(\"ws://\"+window.location.hostname+\":\"+port_2D2D188D4F9F26);    var sw_2D2D188D4F9F26=false;    var preX_2D2D188D4F9F26, preY_2D2D188D4F9F26, X_2D2D188D4F9F26, Y_2D2D188D4F9F26, nX_2D2D188D4F9F26, nY_2D2D188D4F9F26;    var back_2D2D188D4F9F26=document.getElementById(\"joystick_background_2D2D188D4F9F26\");    var stick_2D2D188D4F9F26=document.getElementById(\"joystick_stick_2D2D188D4F9F26\");    var back_width_2D2D188D4F9F26=back_2D2D188D4F9F26.offsetWidth;    var back_height_2D2D188D4F9F26=back_2D2D188D4F9F26.offsetHeight;    var stick_width_2D2D188D4F9F26=stick_2D2D188D4F9F26.offsetWidth;    var stick_height_2D2D188D4F9F26=stick_2D2D188D4F9F26.offsetHeight;  intlog_2D2D188D4F9F26=Date.now();  setInterval(()=>{try{if (parseFloat(sX_2D2D188D4F9F26)==0 && parseFloat(sY_2D2D188D4F9F26)==0) {if (Date.now()-intlog_2D2D188D4F9F26<500) sock_2D2D188D4F9F26.send(\"j,\" + sX_2D2D188D4F9F26 + \",\" + sY_2D2D188D4F9F26);}else{ sock_2D2D188D4F9F26.send(\"j,\" + sX_2D2D188D4F9F26 + \",\" + sY_2D2D188D4F9F26); intlog_2D2D188D4F9F26=Date.now();}}catch{console.log(\"Waiting to connect...\");}},50); function move_2D2D188D4F9F26(evt){        X=evt.clientX;        Y=evt.clientY;        if(sw_2D2D188D4F9F26){            nX_2D2D188D4F9F26+=X-preX_2D2D188D4F9F26;            nY_2D2D188D4F9F26+=Y-preY_2D2D188D4F9F26;            preX_2D2D188D4F9F26=X;            preY_2D2D188D4F9F26=Y;            if (nX_2D2D188D4F9F26>back_width_2D2D188D4F9F26-stick_width_2D2D188D4F9F26/2) nX_2D2D188D4F9F26=back_width_2D2D188D4F9F26-stick_width_2D2D188D4F9F26/2;            else if (nX_2D2D188D4F9F26<-stick_width_2D2D188D4F9F26/2) nX_2D2D188D4F9F26=-stick_width_2D2D188D4F9F26/2;            if (nY_2D2D188D4F9F26>back_height_2D2D188D4F9F26-stick_height_2D2D188D4F9F26/2) nY_2D2D188D4F9F26=back_height_2D2D188D4F9F26-stick_height_2D2D188D4F9F26/2;            else if (nY_2D2D188D4F9F26<-stick_height_2D2D188D4F9F26/2) nY_2D2D188D4F9F26=-stick_height_2D2D188D4F9F26/2;            sX_2D2D188D4F9F26=(nX_2D2D188D4F9F26+stick_width_2D2D188D4F9F26/2-back_width_2D2D188D4F9F26/2)/(back_width_2D2D188D4F9F26/2);            sY_2D2D188D4F9F26=-(nY_2D2D188D4F9F26+stick_height_2D2D188D4F9F26/2-back_height_2D2D188D4F9F26/2)/(back_height_2D2D188D4F9F26/2);                        /*sock_2D2D188D4F9F26.send(\"j,\"+sX_2D2D188D4F9F26+\",\"+sY_2D2D188D4F9F26);*/            stick_2D2D188D4F9F26.style.transform=\"translate(\"+nX_2D2D188D4F9F26+\"px,\"+nY_2D2D188D4F9F26+\"px)\";        }    };    function up_2D2D188D4F9F26(){joystick_disfocus_2D2D188D4F9F26(stick_2D2D188D4F9F26);        if(sw_2D2D188D4F9F26){            sw_2D2D188D4F9F26=false;            reset_joystick_2D2D188D4F9F26(stick_2D2D188D4F9F26);        }    };    function start_joystick_2D2D188D4F9F26(e){window.onmousemove=move_2D2D188D4F9F26; window.onmouseup=up_2D2D188D4F9F26;        preX_2D2D188D4F9F26=X;        preY_2D2D188D4F9F26=Y;        sw_2D2D188D4F9F26=true;    }    function joystick_2D2D188D4F9F26(e){        nX_2D2D188D4F9F26+=X-preX_2D2D188D4F9F26;        nY_2D2D188D4F9F26+=Y-preY_2D2D188D4F9F26;        preX_2D2D188D4F9F26=X;        preY_2D2D188D4F9F26=Y;        if (nX_2D2D188D4F9F26>back_width_2D2D188D4F9F26-stick_width_2D2D188D4F9F26/2) nX_2D2D188D4F9F26=back_width_2D2D188D4F9F26-stick_width_2D2D188D4F9F26/2;        else if (nX_2D2D188D4F9F26<-stick_width_2D2D188D4F9F26/2) nX_2D2D188D4F9F26=-stick_width_2D2D188D4F9F26/2;        if (nY_2D2D188D4F9F26>back_height_2D2D188D4F9F26-stick_height_2D2D188D4F9F26/2) nY_2D2D188D4F9F26=back_height_2D2D188D4F9F26-stick_height_2D2D188D4F9F26/2;        else if (nY_2D2D188D4F9F26<-stick_height_2D2D188D4F9F26/2) nY_2D2D188D4F9F26=-stick_height_2D2D188D4F9F26/2;                e.style.transform=\"translate(\"+nX_2D2D188D4F9F26+\"px,\"+nY_2D2D188D4F9F26+\"px)\";    }    function reset_joystick_2D2D188D4F9F26(e){        sw_2D2D188D4F9F26=false;        nX_2D2D188D4F9F26 = back_width_2D2D188D4F9F26/2 - stick_width_2D2D188D4F9F26/2;        nY_2D2D188D4F9F26 = back_height_2D2D188D4F9F26/2 - stick_height_2D2D188D4F9F26/2;        e.style.transform=\"translate(\"+nX_2D2D188D4F9F26+\"px,\"+nY_2D2D188D4F9F26+\"px)\"; sX_2D2D188D4F9F26=\"0\"; sY_2D2D188D4F9F26=\"0\"; sock_2D2D188D4F9F26.send(\"j,0,0\");    }    reset_joystick_2D2D188D4F9F26(stick_2D2D188D4F9F26); console.log(\"Loaded.\");</script>"
      ],
      "text/plain": [
       "<IPython.core.display.HTML object>"
      ]
     },
     "execution_count": 5,
     "metadata": {},
     "output_type": "execute_result"
    }
   ],
   "source": [
    "import time\n",
    "from pop import Pilot\n",
    "\n",
    "Car = Pilot.AutoCar()\n",
    "\n",
    "Car.forward()\n",
    "time.sleep(1)\n",
    "Car.backward(99)\n",
    "Car.stop\n",
    "\n",
    "Car.joystick()"
   ]
  },
  {
   "cell_type": "code",
   "execution_count": null,
   "metadata": {},
   "outputs": [],
   "source": [
    "import time\n",
    "from pop import Pilot\n",
    "\n",
    "# AutoCar 객체 생성\n",
    "Car = Pilot.AutoCar()\n",
    "\n",
    "\n",
    "Car.camPan(0)\n",
    "time.sleep(1)\n",
    "Car.camPan(180)\n",
    "time.sleep(1)\n",
    "Car.camTilt(180)\n",
    "time.sleep(1)\n",
    "Car.camTilt(0)"
   ]
  },
  {
   "cell_type": "code",
   "execution_count": 3,
   "metadata": {},
   "outputs": [
    {
     "name": "stdout",
     "output_type": "stream",
     "text": [
      "조도 값: 1380\n",
      "조도 값: 1380\n",
      "조도 값: 1379\n",
      "조도 값: 1162\n",
      "조도 값: 81\n",
      "조도 값: 49\n",
      "어두워졌습니다. 자동차가 정지합니다.\n",
      "조도 값: 37\n",
      "어두워졌습니다. 자동차가 정지합니다.\n",
      "조도 값: 1231\n",
      "조도 값: 1337\n",
      "조도 값: 1370\n",
      "조도 값: 468\n",
      "조도 값: 48\n",
      "어두워졌습니다. 자동차가 정지합니다.\n",
      "조도 값: 39\n",
      "어두워졌습니다. 자동차가 정지합니다.\n",
      "조도 값: 37\n",
      "어두워졌습니다. 자동차가 정지합니다.\n",
      "조도 값: 34\n",
      "어두워졌습니다. 자동차가 정지합니다.\n",
      "조도 값: 1379\n",
      "조도 값: 1379\n",
      "조도 값: 1287\n",
      "조도 값: 1301\n",
      "조도 값: 1282\n",
      "프로그램이 종료되었습니다.\n"
     ]
    }
   ],
   "source": [
    "import numpy as np\n",
    "from pop import Cds, delay\n",
    "from pop import Pilot\n",
    "\n",
    "car = Pilot.AutoCar()\n",
    "cds = Cds(7)\n",
    "\n",
    "try:\n",
    "    while True:\n",
    "        value = cds.readAverage()  # 조도 값을 읽어오기\n",
    "        print(f\"조도 값: {value}\")\n",
    "\n",
    "        # 조도 값을 기반으로 자동차 속도 설정\n",
    "        speed = value / 16  # 조도 값을 16으로 나눠 속도로 설정 (0~100의 값으로)\n",
    "        car.setSpeed(speed)  # 자동차 속도 설정\n",
    "\n",
    "        # 조도 값에 따라 자동차 동작 결정\n",
    "        if value >= 700:\n",
    "            car.forward()  # 밝으면 전진\n",
    "        elif value >= 50:\n",
    "            car.forward()  # 중간 밝기에서 전진\n",
    "        else:\n",
    "            car.stop()  # 어두워지면 정지\n",
    "            print(\"어두워졌습니다. 자동차가 정지합니다.\")\n",
    "\n",
    "        delay(500)  # 500 밀리초 대기\n",
    "\n",
    "except KeyboardInterrupt:\n",
    "    car.stop()  # 정지 버튼을 누르면 즉시 멈춤\n",
    "    print(\"프로그램이45 종료되었습니다.\")\n",
    "except Exception as e:\n",
    "    print(f\"오류가 발생했습니다: {e}\")"
   ]
  },
  {
   "cell_type": "code",
   "execution_count": null,
   "metadata": {},
   "outputs": [],
   "source": []
  },
  {
   "cell_type": "code",
   "execution_count": null,
   "metadata": {},
   "outputs": [],
   "source": []
  }
 ],
 "metadata": {
  "kernelspec": {
   "display_name": "Python 3",
   "language": "python",
   "name": "python3"
  },
  "language_info": {
   "codemirror_mode": {
    "name": "ipython",
    "version": 3
   },
   "file_extension": ".py",
   "mimetype": "text/x-python",
   "name": "python",
   "nbconvert_exporter": "python",
   "pygments_lexer": "ipython3",
   "version": "3.6.9"
  }
 },
 "nbformat": 4,
 "nbformat_minor": 4
}
