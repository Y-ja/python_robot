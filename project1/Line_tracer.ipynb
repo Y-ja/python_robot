{
 "cells": [
  {
   "cell_type": "code",
   "execution_count": 1,
   "metadata": {},
   "outputs": [],
   "source": [
    "from pop import Pilot"
   ]
  },
  {
   "cell_type": "code",
   "execution_count": 2,
   "metadata": {},
   "outputs": [],
   "source": [
    "cam = Pilot.Camera(width = 300, height = 300)"
   ]
  },
  {
   "cell_type": "code",
   "execution_count": 3,
   "metadata": {},
   "outputs": [
    {
     "data": {
      "application/vnd.jupyter.widget-view+json": {
       "model_id": "7d75b96d68144f03aedf59c5b3d55ec5",
       "version_major": 2,
       "version_minor": 0
      },
      "text/plain": [
       "Label(value='Loading datasets...')"
      ]
     },
     "metadata": {},
     "output_type": "display_data"
    },
    {
     "name": "stdout",
     "output_type": "stream",
     "text": [
      "track_dataset  doesn't exist.\n",
      "Please load the datasets as load_datasets() method.\n"
     ]
    },
    {
     "data": {
      "application/vnd.jupyter.widget-view+json": {
       "model_id": "3ecfeac5f2fc4b7ca29a96204a783aa6",
       "version_major": 2,
       "version_minor": 0
      },
      "text/plain": [
       "Image(value=b'', format='jpeg', height='300', width='300')"
      ]
     },
     "metadata": {},
     "output_type": "display_data"
    }
   ],
   "source": [
    "LF = Pilot.Track_Follow(camera = cam)\n",
    "LF.load_datasets()\n",
    "\n",
    "LF.train(times = 5)\n",
    "\n",
    "LF.show()"
   ]
  },
  {
   "cell_type": "code",
   "execution_count": 4,
   "metadata": {},
   "outputs": [],
   "source": [
    "bot = Pilot.SerBot()\n",
    "bot.setSpeed(50)\n",
    "\n",
    "def drive(value):\n",
    "    bot.forward()\n",
    "    steer = value['x']\n",
    "    \n",
    "    if steer > 1:\n",
    "        steer = 1\n",
    "    elif steer < -1:\n",
    "        steer = -1\n",
    "    bot.steering = steer * 1.5\n",
    "    \n",
    "    while True:\n",
    "        LF.run(callback = drive)"
   ]
  },
  {
   "cell_type": "code",
   "execution_count": null,
   "metadata": {},
   "outputs": [],
   "source": []
  }
 ],
 "metadata": {
  "kernelspec": {
   "display_name": "Python 3",
   "language": "python",
   "name": "python3"
  },
  "language_info": {
   "codemirror_mode": {
    "name": "ipython",
    "version": 3
   },
   "file_extension": ".py",
   "mimetype": "text/x-python",
   "name": "python",
   "nbconvert_exporter": "python",
   "pygments_lexer": "ipython3",
   "version": "3.6.9"
  }
 },
 "nbformat": 4,
 "nbformat_minor": 4
}
