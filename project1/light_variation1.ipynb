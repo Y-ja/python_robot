{
 "cells": [
  {
   "cell_type": "code",
   "execution_count": null,
   "metadata": {},
   "outputs": [],
   "source": [
    "import numpy as np\n",
    "from pop import Cds, delay\n",
    "from pop import Pilot\n",
    "import time\n",
    "\n",
    "car = Pilot.AutoCar()\n",
    "cds = Cds(7)\n",
    "\n",
    "try:\n",
    "    while True:\n",
    "        value = cds.readAverage()  # 조도 값을 읽어오기\n",
    "        print(f\"조도 값: {value}\")\n",
    "\n",
    "        # 조도 값에 따라 자동차 동작 결정\n",
    "        if value >= 700:\n",
    "            car.joystick()  # 조이스틱으로 자동차 조종\n",
    "        elif value >= 50:\n",
    "            car.joystick()  # 중간 밝기에서 조종 가능\n",
    "        else:\n",
    "            car.stop()  # 어두워지면 정지\n",
    "            print(\"어두워졌습니다. 자동차가 정지합니다.\")\n",
    "\n",
    "        delay(500)  # 500 밀리초 대기\n",
    "\n",
    "except KeyboardInterrupt:\n",
    "    car.stop()  # 정지 버튼을 누르면 즉시 멈춤\n",
    "    print(\"프로그램이 종료되었습니다.\")\n",
    "except Exception as e:\n",
    "    print(f\"오류가 발생했습니다: {e}\")\n"
   ]
  }
 ],
 "metadata": {
  "kernelspec": {
   "display_name": "Python 3",
   "language": "python",
   "name": "python3"
  },
  "language_info": {
   "codemirror_mode": {
    "name": "ipython",
    "version": 3
   },
   "file_extension": ".py",
   "mimetype": "text/x-python",
   "name": "python",
   "nbconvert_exporter": "python",
   "pygments_lexer": "ipython3",
   "version": "3.6.9"
  }
 },
 "nbformat": 4,
 "nbformat_minor": 4
}
