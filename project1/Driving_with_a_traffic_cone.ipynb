{
 "cells": [
  {
   "cell_type": "code",
   "execution_count": 1,
   "metadata": {},
   "outputs": [],
   "source": [
    "from pop import Pilot"
   ]
  },
  {
   "cell_type": "code",
   "execution_count": 2,
   "metadata": {},
   "outputs": [],
   "source": [
    "# 카메라를 초기화합니다. 너비와 높이를 300으로 설정합니다.\n",
    "cam = Pilot.Camera(width=300, height=300)"
   ]
  },
  {
   "cell_type": "code",
   "execution_count": 4,
   "metadata": {},
   "outputs": [
    {
     "data": {
      "application/vnd.jupyter.widget-view+json": {
       "model_id": "bec9a1e3131e4a2187f71f6aa8bbc48c",
       "version_major": 2,
       "version_minor": 0
      },
      "text/plain": [
       "Label(value='Loading datasets...')"
      ]
     },
     "metadata": {},
     "output_type": "display_data"
    },
    {
     "name": "stdout",
     "output_type": "stream",
     "text": [
      "track_dataset  doesn't exist.\n",
      "Please load the datasets as load_datasets() method.\n"
     ]
    },
    {
     "data": {
      "application/vnd.jupyter.widget-view+json": {
       "model_id": "177e4d0737434e36985341502cd04757",
       "version_major": 2,
       "version_minor": 0
      },
      "text/plain": [
       "Image(value=b'', format='jpeg', height='300', width='300')"
      ]
     },
     "metadata": {},
     "output_type": "display_data"
    }
   ],
   "source": [
    "\n",
    "# 트랙 추적 객체를 초기화합니다.\n",
    "CF = Pilot.Track_Follow(camera=cam)\n",
    "\n",
    "# 데이터셋을 로드합니다.\n",
    "CF.load_datasets()\n",
    "\n",
    "# 데이터셋이 제대로 로드되었는지 확인합니다.\n",
    "# (옵션: 로드된 데이터셋을 출력해 볼 수 있습니다.)\n",
    "#print(CF.datasets)\n",
    "\n",
    "# 학습을 진행합니다.\n",
    "CF.train(times=5)\n",
    "\n",
    "# 결과를 시각적으로 표시합니다.\n",
    "CF.show()\n"
   ]
  },
  {
   "cell_type": "code",
   "execution_count": 5,
   "metadata": {},
   "outputs": [],
   "source": [
    "# 로봇 초기화 및 속도 설정\n",
    "bot = Pilot.SerBot()\n",
    "bot.setSpeed(50)  # setSpeed를 bot 객체의 메서드로 호출합니다."
   ]
  },
  {
   "cell_type": "code",
   "execution_count": 6,
   "metadata": {},
   "outputs": [],
   "source": [
    "def drive(value):\n",
    "    bot.forward()\n",
    "    steer = value['x']\n",
    "    \n",
    "    if steer > 1:\n",
    "        steer = 1\n",
    "    elif steer <- 1:\n",
    "         steer = -1\n",
    "    bot.steering =  steer * 1.5\n",
    "    \n",
    "    while True:\n",
    "        CF.run(callback = drive)"
   ]
  },
  {
   "cell_type": "code",
   "execution_count": null,
   "metadata": {},
   "outputs": [],
   "source": []
  }
 ],
 "metadata": {
  "kernelspec": {
   "display_name": "Python 3",
   "language": "python",
   "name": "python3"
  },
  "language_info": {
   "codemirror_mode": {
    "name": "ipython",
    "version": 3
   },
   "file_extension": ".py",
   "mimetype": "text/x-python",
   "name": "python",
   "nbconvert_exporter": "python",
   "pygments_lexer": "ipython3",
   "version": "3.6.9"
  }
 },
 "nbformat": 4,
 "nbformat_minor": 4
}
