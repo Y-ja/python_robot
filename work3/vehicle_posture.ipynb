{
 "cells": [
  {
   "cell_type": "code",
   "execution_count": 1,
   "metadata": {},
   "outputs": [],
   "source": [
    "from pop import Pilot\n",
    "import numpy as np\n",
    "import time"
   ]
  },
  {
   "cell_type": "code",
   "execution_count": 2,
   "metadata": {},
   "outputs": [],
   "source": [
    "Car = Pilot.AutoCar()\n",
    "Car.correctError(-0.1206646)"
   ]
  },
  {
   "cell_type": "code",
   "execution_count": 3,
   "metadata": {},
   "outputs": [
    {
     "name": "stdout",
     "output_type": "stream",
     "text": [
      "{'gyro': 210, 'steer': 1.0}\n",
      "{'gyro': 204, 'steer': 0.8}\n",
      "{'gyro': 228, 'steer': 0.6}\n",
      "{'gyro': 238, 'steer': 0.4}\n",
      "{'gyro': 212, 'steer': 0.2}\n",
      "{'gyro': 202, 'steer': -0.2}\n",
      "{'gyro': 220, 'steer': -0.4}\n",
      "{'gyro': 220, 'steer': -0.6}\n",
      "{'gyro': 194, 'steer': -0.8}\n",
      "{'gyro': 242, 'steer': -1.0}\n"
     ]
    }
   ],
   "source": [
    "# 데이터셋 초기화: 'gyro'와 'steer' 키를 가진 빈 리스트를 포함\n",
    "dataset = {'gyro': [], 'steer': []}\n",
    "\n",
    "# -1부터 1.0까지 0.2 간격으로 n 값을 반복\n",
    "for n in np.arange(-1, 1.1, 0.2):\n",
    "    n = round(n, 1)  # n 값을 소수점 첫째 자리로 반올림\n",
    "    \n",
    "    if n == 0.0:\n",
    "        continue  # n이 0.0인 경우 건너뜀\n",
    "    \n",
    "    Car.steering = n  # Car의 조향 각도를 n으로 설정\n",
    "    Car.forward()      # Car를 앞으로 이동\n",
    "    \n",
    "    time.sleep(0.5)  # 0.5초 대기\n",
    "    m = Car.getGyro('z')  # z축 자이로 값을 가져옴\n",
    "    time.sleep(0.5)  # 0.5초 대기\n",
    "    \n",
    "    Car.backward()    # Car를 뒤로 이동\n",
    "    time.sleep(1)     # 1초 대기\n",
    "    Car.stop()        # Car 정지\n",
    "    \n",
    "    n = -n  # 조향 제어값을 반전해서 저장\n",
    "    dataset['gyro'].append(m)  # 자이로 값 추가\n",
    "    dataset['steer'].append(n)  # 반전된 조향 값 추가\n",
    "    \n",
    "    # 현재 상태 출력\n",
    "    print({'gyro': m, 'steer': n})"
   ]
  },
  {
   "cell_type": "code",
   "execution_count": 4,
   "metadata": {},
   "outputs": [
    {
     "name": "stdout",
     "output_type": "stream",
     "text": [
      "100 step loss: 0.20091238617897034\n",
      "200 step loss: 0.19778329133987427\n",
      "300 step loss: 0.19750432670116425\n",
      "400 step loss: 0.19716763496398926\n",
      "500 step loss: 0.19677862524986267\n",
      "600 step loss: 0.19634081423282623\n",
      "700 step loss: 0.1958567202091217\n",
      "800 step loss: 0.19532832503318787\n",
      "900 step loss: 0.19475717842578888\n",
      "1000 step loss: 0.19414454698562622\n",
      "1100 step loss: 0.19349169731140137\n",
      "1200 step loss: 0.19279973208904266\n",
      "1300 step loss: 0.19206972420215607\n",
      "1400 step loss: 0.19130270183086395\n",
      "1500 step loss: 0.1904999017715454\n",
      "1600 step loss: 0.18966245651245117\n",
      "1700 step loss: 0.1887916624546051\n",
      "1800 step loss: 0.18788887560367584\n",
      "1900 step loss: 0.18695560097694397\n",
      "2000 step loss: 0.18599346280097961\n",
      "2100 step loss: 0.18500414490699768\n",
      "2200 step loss: 0.18398961424827576\n",
      "2300 step loss: 0.18295195698738098\n",
      "2400 step loss: 0.18189331889152527\n",
      "2500 step loss: 0.1808161735534668\n",
      "2600 step loss: 0.17972305417060852\n",
      "2700 step loss: 0.17861667275428772\n",
      "2800 step loss: 0.1774999052286148\n",
      "2900 step loss: 0.1763758361339569\n",
      "3000 step loss: 0.1752476990222931\n",
      "3100 step loss: 0.174118772149086\n",
      "3200 step loss: 0.17299248278141022\n",
      "3300 step loss: 0.17187242209911346\n",
      "3400 step loss: 0.17076224088668823\n",
      "3500 step loss: 0.16966554522514343\n",
      "3600 step loss: 0.16858604550361633\n",
      "3700 step loss: 0.16752739250659943\n",
      "3800 step loss: 0.16649320721626282\n",
      "3900 step loss: 0.16548696160316467\n",
      "4000 step loss: 0.164512038230896\n",
      "4100 step loss: 0.16357164084911346\n",
      "4200 step loss: 0.16266873478889465\n",
      "4300 step loss: 0.16180600225925446\n",
      "4400 step loss: 0.1609858274459839\n",
      "4500 step loss: 0.1602102518081665\n",
      "4600 step loss: 0.15948089957237244\n",
      "4700 step loss: 0.15879908204078674\n",
      "4800 step loss: 0.15816554427146912\n",
      "4900 step loss: 0.1575806885957718\n",
      "5000 step loss: 0.15704433619976044\n",
      "Training is done.\n",
      "Time spent: 27.2 s\n",
      "Training speed: 184.0 step/s\n"
     ]
    }
   ],
   "source": [
    "from pop import AI\n",
    "\n",
    "# 선형 회귀 모델 초기화: 입력 크기와 출력 크기를 설정\n",
    "LR = AI.Linear_Regression()\n",
    "\n",
    "# 데이터셋에서 X_data와 Y_data 설정\n",
    "LR.X_data = dataset['gyro']  # 입력 데이터\n",
    "LR.Y_data = dataset['steer']  # 출력 데이터 (조향 값으로 변경)\n",
    "\n",
    "# 모델 학습: 5000회 반복, 100회마다 출력\n",
    "LR.train(times=5000, print_every=100)  # 'time'을 'times'로 수정\n"
   ]
  },
  {
   "cell_type": "code",
   "execution_count": 8,
   "metadata": {},
   "outputs": [
    {
     "name": "stdin",
     "output_type": "stream",
     "text": [
      " q\n"
     ]
    }
   ],
   "source": [
    "Car.forward()  # 앞으로 이동 시작\n",
    "\n",
    "while True:\n",
    "    if 'q' == input():\n",
    "        break  # 'q'를 입력하면 반복문 종료\n",
    "    \n",
    "    err = Car.getGyro('z')  # z축 자이로 값을 가져옴\n",
    "    value = LR.run([err])    # 모델을 통해 조향 값을 계산\n",
    "    \n",
    "    Car.steering = value / 3  # 조향 각도를 설정\n",
    "    time.sleep(0.1)            # 0.1초 대기\n",
    "\n",
    "Car.stop()  # 차를 정지시킴"
   ]
  },
  {
   "cell_type": "code",
   "execution_count": null,
   "metadata": {},
   "outputs": [],
   "source": []
  }
 ],
 "metadata": {
  "kernelspec": {
   "display_name": "Python 3",
   "language": "python",
   "name": "python3"
  },
  "language_info": {
   "codemirror_mode": {
    "name": "ipython",
    "version": 3
   },
   "file_extension": ".py",
   "mimetype": "text/x-python",
   "name": "python",
   "nbconvert_exporter": "python",
   "pygments_lexer": "ipython3",
   "version": "3.6.9"
  }
 },
 "nbformat": 4,
 "nbformat_minor": 4
}
