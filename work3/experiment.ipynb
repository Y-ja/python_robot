{
 "cells": [
  {
   "cell_type": "code",
   "execution_count": 1,
   "metadata": {},
   "outputs": [],
   "source": [
    "import time\n",
    "from pop import Pilot\n",
    "\n",
    "# AutoCar 객체 생성\n",
    "Car = Pilot.AutoCar()\n",
    "\n",
    "\n",
    "Car.camPan(0)\n",
    "time.sleep(1)\n",
    "Car.camPan(180)\n",
    "time.sleep(1)\n",
    "Car.camTilt(180)\n",
    "time.sleep(1)\n",
    "Car.camTilt(0)"
   ]
  },
  {
   "cell_type": "code",
   "execution_count": 5,
   "metadata": {},
   "outputs": [
    {
     "data": {
      "text/plain": [
       "{'x': 662, 'y': 936, 'z': 1375}"
      ]
     },
     "execution_count": 5,
     "metadata": {},
     "output_type": "execute_result"
    }
   ],
   "source": [
    "import time\n",
    "from pop import Pilot\n",
    "\n",
    "Car = Pilot.AutoCar()\n",
    "\n",
    "Car.forward()\n",
    "time.sleep(1)\n",
    "Car.backward(99)\n",
    "Car.stop()\n",
    "\n",
    "# Check if joystick method is needed\n",
    "Car.joystick()\n",
    "\n",
    "# Corrected method name\n",
    "Car.getGyro()  # Make sure this method exists in the AutoCar class"
   ]
  },
  {
   "cell_type": "code",
   "execution_count": 3,
   "metadata": {},
   "outputs": [],
   "source": [
    "import time\n",
    "from pop import Pilot\n",
    "\n",
    "# AutoCar 객체 생성\n",
    "Car = Pilot.AutoCar()\n",
    "\n",
    "# 자동차 전진\n",
    "Car.forward()\n",
    "time.sleep(1)\n",
    "\n",
    "# 자동차 후진\n",
    "Car.backward(99)\n",
    "Car.stop()\n",
    "\n",
    "# 조이스틱 메서드가 필요한지 확인\n",
    "Car.joystick()\n",
    "\n",
    "# 자이로 데이터 가져오기\n",
    "Car.getGyro()\n",
    "\n",
    "# 카메라 제어 추가\n",
    "Car.camPan(0)      # 카메라를 0도로 설정\n",
    "time.sleep(1)\n",
    "Car.camPan(180)    # 카메라를 오른쪽으로 180도 회전\n",
    "time.sleep(1)\n",
    "Car.camTilt(180)   # 카메라를 위로 180도 회전\n",
    "time.sleep(1)\n",
    "Car.camTilt(0)     # 카메라를 아래로 0도로 설정\n",
    "time.sleep(1)\n",
    "\n",
    "# 모든 동작 후 정지\n",
    "Car.stop()"
   ]
  },
  {
   "cell_type": "code",
   "execution_count": 4,
   "metadata": {},
   "outputs": [
    {
     "name": "stdout",
     "output_type": "stream",
     "text": [
      "카메라 팬 각도: 0도\n",
      "카메라 팬 각도: 90도\n",
      "카메라 팬 각도: 180도\n",
      "카메라 팬 각도: 0도\n",
      "카메라 틸트 각도: 0도\n",
      "카메라 틸트 각도: 90도\n",
      "카메라 틸트 각도: 180도\n",
      "카메라 틸트 각도: 0도\n"
     ]
    }
   ],
   "source": [
    "import time\n",
    "from pop import Pilot\n",
    "\n",
    "# AutoCar 객체 생성\n",
    "Car = Pilot.AutoCar()\n",
    "\n",
    "# 자동차 전진\n",
    "Car.forward()\n",
    "time.sleep(1)\n",
    "\n",
    "# 자동차 후진\n",
    "Car.backward(99)\n",
    "Car.stop()\n",
    "\n",
    "# 조이스틱 메서드가 필요한지 확인\n",
    "Car.joystick()\n",
    "\n",
    "# 자이로 데이터 가져오기\n",
    "Car.getGyro()\n",
    "\n",
    "# 카메라 제어 및 각도 출력\n",
    "angles = [0, 90, 180]\n",
    "\n",
    "for angle in angles:\n",
    "    Car.camPan(angle)  # 카메라 팬 각도 설정\n",
    "    print(f\"카메라 팬 각도: {angle}도\")\n",
    "    time.sleep(1)\n",
    "\n",
    "# 마지막에 카메라 팬을 0도로 되돌리기\n",
    "Car.camPan(0)\n",
    "print(\"카메라 팬 각도: 0도\")\n",
    "\n",
    "# 카메라 틸트 제어 및 각도 출력\n",
    "tilt_angles = [0, 90, 180]\n",
    "\n",
    "for tilt_angle in tilt_angles:\n",
    "    Car.camTilt(tilt_angle)  # 카메라 틸트 각도 설정\n",
    "    print(f\"카메라 틸트 각도: {tilt_angle}도\")\n",
    "    time.sleep(1)\n",
    "\n",
    "# 마지막으로 카메라 틸트를 0도로 되돌리기\n",
    "Car.camTilt(0)\n",
    "print(\"카메라 틸트 각도: 0도\")\n",
    "\n",
    "# 모든 동작 후 정지\n",
    "Car.stop()"
   ]
  },
  {
   "cell_type": "code",
   "execution_count": 1,
   "metadata": {},
   "outputs": [
    {
     "data": {
      "text/html": [
       "<style>.joystick_focused{ cursor:grabbing !important;}    .joystick_background{user-select: none;        background: #fff3f3;        border: 1px solid #ffa29e;        border-radius: 50%;        height: 12em;        width: 12em;    margin:2.5em;}    .joystick_stick{cursor:grab; user-select: none;        background: #F74138;        border-radius: 50%;        box-shadow: 0.375em 0.375em 0 0 rgba(15, 28, 63, 0.125);        height: 5em;        width: 5em;        transform: translate(50%,50%);    }</style><div><div id=\"joystick_background_5BF4CF2EFD2A9C\" class=\"joystick_background\">    <div id=\"joystick_stick_5BF4CF2EFD2A9C\" class=\"joystick_stick\" style=\"position:absolute\" onmousedown=\"start_joystick_5BF4CF2EFD2A9C(this); joystick_focus_5BF4CF2EFD2A9C(this);\" ondrag=\"joystick_5BF4CF2EFD2A9C(e)\" onmouseup=\"reset_joystick_5BF4CF2EFD2A9C(this); joystick_disfocus_5BF4CF2EFD2A9C(this);\"></div></div></div><script> X=0; Y=0; function joystick_focus_5BF4CF2EFD2A9C(e){ e.classList.add(\"joystick_focused\");} function joystick_disfocus_5BF4CF2EFD2A9C(e){ e.classList.remove(\"joystick_focused\");}    var port_5BF4CF2EFD2A9C=8889;    var sock_5BF4CF2EFD2A9C=new WebSocket(\"ws://\"+window.location.hostname+\":\"+port_5BF4CF2EFD2A9C);    var sw_5BF4CF2EFD2A9C=false;    var preX_5BF4CF2EFD2A9C, preY_5BF4CF2EFD2A9C, X_5BF4CF2EFD2A9C, Y_5BF4CF2EFD2A9C, nX_5BF4CF2EFD2A9C, nY_5BF4CF2EFD2A9C;    var back_5BF4CF2EFD2A9C=document.getElementById(\"joystick_background_5BF4CF2EFD2A9C\");    var stick_5BF4CF2EFD2A9C=document.getElementById(\"joystick_stick_5BF4CF2EFD2A9C\");    var back_width_5BF4CF2EFD2A9C=back_5BF4CF2EFD2A9C.offsetWidth;    var back_height_5BF4CF2EFD2A9C=back_5BF4CF2EFD2A9C.offsetHeight;    var stick_width_5BF4CF2EFD2A9C=stick_5BF4CF2EFD2A9C.offsetWidth;    var stick_height_5BF4CF2EFD2A9C=stick_5BF4CF2EFD2A9C.offsetHeight;  intlog_5BF4CF2EFD2A9C=Date.now();  setInterval(()=>{try{if (parseFloat(sX_5BF4CF2EFD2A9C)==0 && parseFloat(sY_5BF4CF2EFD2A9C)==0) {if (Date.now()-intlog_5BF4CF2EFD2A9C<500) sock_5BF4CF2EFD2A9C.send(\"j,\" + sX_5BF4CF2EFD2A9C + \",\" + sY_5BF4CF2EFD2A9C);}else{ sock_5BF4CF2EFD2A9C.send(\"j,\" + sX_5BF4CF2EFD2A9C + \",\" + sY_5BF4CF2EFD2A9C); intlog_5BF4CF2EFD2A9C=Date.now();}}catch{console.log(\"Waiting to connect...\");}},50); function move_5BF4CF2EFD2A9C(evt){        X=evt.clientX;        Y=evt.clientY;        if(sw_5BF4CF2EFD2A9C){            nX_5BF4CF2EFD2A9C+=X-preX_5BF4CF2EFD2A9C;            nY_5BF4CF2EFD2A9C+=Y-preY_5BF4CF2EFD2A9C;            preX_5BF4CF2EFD2A9C=X;            preY_5BF4CF2EFD2A9C=Y;            if (nX_5BF4CF2EFD2A9C>back_width_5BF4CF2EFD2A9C-stick_width_5BF4CF2EFD2A9C/2) nX_5BF4CF2EFD2A9C=back_width_5BF4CF2EFD2A9C-stick_width_5BF4CF2EFD2A9C/2;            else if (nX_5BF4CF2EFD2A9C<-stick_width_5BF4CF2EFD2A9C/2) nX_5BF4CF2EFD2A9C=-stick_width_5BF4CF2EFD2A9C/2;            if (nY_5BF4CF2EFD2A9C>back_height_5BF4CF2EFD2A9C-stick_height_5BF4CF2EFD2A9C/2) nY_5BF4CF2EFD2A9C=back_height_5BF4CF2EFD2A9C-stick_height_5BF4CF2EFD2A9C/2;            else if (nY_5BF4CF2EFD2A9C<-stick_height_5BF4CF2EFD2A9C/2) nY_5BF4CF2EFD2A9C=-stick_height_5BF4CF2EFD2A9C/2;            sX_5BF4CF2EFD2A9C=(nX_5BF4CF2EFD2A9C+stick_width_5BF4CF2EFD2A9C/2-back_width_5BF4CF2EFD2A9C/2)/(back_width_5BF4CF2EFD2A9C/2);            sY_5BF4CF2EFD2A9C=-(nY_5BF4CF2EFD2A9C+stick_height_5BF4CF2EFD2A9C/2-back_height_5BF4CF2EFD2A9C/2)/(back_height_5BF4CF2EFD2A9C/2);                        /*sock_5BF4CF2EFD2A9C.send(\"j,\"+sX_5BF4CF2EFD2A9C+\",\"+sY_5BF4CF2EFD2A9C);*/            stick_5BF4CF2EFD2A9C.style.transform=\"translate(\"+nX_5BF4CF2EFD2A9C+\"px,\"+nY_5BF4CF2EFD2A9C+\"px)\";        }    };    function up_5BF4CF2EFD2A9C(){joystick_disfocus_5BF4CF2EFD2A9C(stick_5BF4CF2EFD2A9C);        if(sw_5BF4CF2EFD2A9C){            sw_5BF4CF2EFD2A9C=false;            reset_joystick_5BF4CF2EFD2A9C(stick_5BF4CF2EFD2A9C);        }    };    function start_joystick_5BF4CF2EFD2A9C(e){window.onmousemove=move_5BF4CF2EFD2A9C; window.onmouseup=up_5BF4CF2EFD2A9C;        preX_5BF4CF2EFD2A9C=X;        preY_5BF4CF2EFD2A9C=Y;        sw_5BF4CF2EFD2A9C=true;    }    function joystick_5BF4CF2EFD2A9C(e){        nX_5BF4CF2EFD2A9C+=X-preX_5BF4CF2EFD2A9C;        nY_5BF4CF2EFD2A9C+=Y-preY_5BF4CF2EFD2A9C;        preX_5BF4CF2EFD2A9C=X;        preY_5BF4CF2EFD2A9C=Y;        if (nX_5BF4CF2EFD2A9C>back_width_5BF4CF2EFD2A9C-stick_width_5BF4CF2EFD2A9C/2) nX_5BF4CF2EFD2A9C=back_width_5BF4CF2EFD2A9C-stick_width_5BF4CF2EFD2A9C/2;        else if (nX_5BF4CF2EFD2A9C<-stick_width_5BF4CF2EFD2A9C/2) nX_5BF4CF2EFD2A9C=-stick_width_5BF4CF2EFD2A9C/2;        if (nY_5BF4CF2EFD2A9C>back_height_5BF4CF2EFD2A9C-stick_height_5BF4CF2EFD2A9C/2) nY_5BF4CF2EFD2A9C=back_height_5BF4CF2EFD2A9C-stick_height_5BF4CF2EFD2A9C/2;        else if (nY_5BF4CF2EFD2A9C<-stick_height_5BF4CF2EFD2A9C/2) nY_5BF4CF2EFD2A9C=-stick_height_5BF4CF2EFD2A9C/2;                e.style.transform=\"translate(\"+nX_5BF4CF2EFD2A9C+\"px,\"+nY_5BF4CF2EFD2A9C+\"px)\";    }    function reset_joystick_5BF4CF2EFD2A9C(e){        sw_5BF4CF2EFD2A9C=false;        nX_5BF4CF2EFD2A9C = back_width_5BF4CF2EFD2A9C/2 - stick_width_5BF4CF2EFD2A9C/2;        nY_5BF4CF2EFD2A9C = back_height_5BF4CF2EFD2A9C/2 - stick_height_5BF4CF2EFD2A9C/2;        e.style.transform=\"translate(\"+nX_5BF4CF2EFD2A9C+\"px,\"+nY_5BF4CF2EFD2A9C+\"px)\"; sX_5BF4CF2EFD2A9C=\"0\"; sY_5BF4CF2EFD2A9C=\"0\"; sock_5BF4CF2EFD2A9C.send(\"j,0,0\");    }    reset_joystick_5BF4CF2EFD2A9C(stick_5BF4CF2EFD2A9C); console.log(\"Loaded.\");</script>"
      ],
      "text/plain": [
       "<IPython.core.display.HTML object>"
      ]
     },
     "execution_count": 1,
     "metadata": {},
     "output_type": "execute_result"
    }
   ],
   "source": [
    "import time\n",
    "from pop import Pilot\n",
    "\n",
    "Car = Pilot.AutoCar()\n",
    "\n",
    "Car.forward()\n",
    "time.sleep(1)\n",
    "Car.backward(99)\n",
    "Car.stop\n",
    "\n",
    "Car.joystick()"
   ]
  },
  {
   "cell_type": "code",
   "execution_count": null,
   "metadata": {},
   "outputs": [],
   "source": []
  }
 ],
 "metadata": {
  "kernelspec": {
   "display_name": "Python 3",
   "language": "python",
   "name": "python3"
  },
  "language_info": {
   "codemirror_mode": {
    "name": "ipython",
    "version": 3
   },
   "file_extension": ".py",
   "mimetype": "text/x-python",
   "name": "python",
   "nbconvert_exporter": "python",
   "pygments_lexer": "ipython3",
   "version": "3.6.9"
  }
 },
 "nbformat": 4,
 "nbformat_minor": 4
}
