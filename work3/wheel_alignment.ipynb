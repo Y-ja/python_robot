{
 "cells": [
  {
   "cell_type": "code",
   "execution_count": 4,
   "metadata": {},
   "outputs": [],
   "source": [
    "from pop import Pilot\n",
    "import numpy as np\n",
    "import time\n",
    "\n",
    "Car = Pilot.AutoCar()"
   ]
  },
  {
   "cell_type": "code",
   "execution_count": 5,
   "metadata": {},
   "outputs": [
    {
     "name": "stdout",
     "output_type": "stream",
     "text": [
      "Steering: -1.0, Gyro: 1187\n",
      "Steering: -0.8, Gyro: 1596\n",
      "Steering: -0.6, Gyro: 1116\n",
      "Steering: -0.4, Gyro: -7\n",
      "Steering: -0.2, Gyro: 655\n",
      "Steering: -0.0, Gyro: -14\n",
      "Steering: 0.2, Gyro: 398\n",
      "Steering: 0.4, Gyro: -1190\n",
      "Steering: 0.6, Gyro: -1119\n",
      "Steering: 0.8, Gyro: -1829\n",
      "Steering: 1.0, Gyro: -1871\n"
     ]
    }
   ],
   "source": [
    "# 데이터셋 초기화: 'gyro'와 'steer' 키를 가진 빈 리스트를 포함\n",
    "dataset = {\n",
    "    'gyro': [],\n",
    "    'steer': []\n",
    "}\n",
    "\n",
    "# -1부터 1.0까지 0.2 간격으로 n 값을 반복\n",
    "for n in np.arange(-1, 1.1, 0.2):\n",
    "    n = round(n, 1)  # n 값을 소수점 첫째 자리로 반올림\n",
    "    \n",
    "    Car.steering = n  # Car의 조향 각도를 n으로 설정\n",
    "    Car.forward(50)     # Car를 앞으로 이동\n",
    "    time.sleep(0.5)  # 0.5초 대기\n",
    "    \n",
    "    m = Car.getGyro('z')  # z축 자이로 값을 가져옴\n",
    "    time.sleep(0.5)        # 0.5초 대기\n",
    "    \n",
    "    Car.backward()    # Car를 뒤로 이동 (오타 수정)\n",
    "    time.sleep(1)     # 1초 대기\n",
    "    Car.stop()        # Car 정지\n",
    "    \n",
    "    # 수집된 자이로 값과 조향 각도를 데이터셋에 추가\n",
    "    dataset['gyro'].append(m)\n",
    "    dataset['steer'].append(n)\n",
    "    \n",
    "    # 각 반복에 대한 출력 (현재 상태 출력)\n",
    "    print(f\"Steering: {n}, Gyro: {m}\")"
   ]
  },
  {
   "cell_type": "code",
   "execution_count": 8,
   "metadata": {},
   "outputs": [
    {
     "name": "stdout",
     "output_type": "stream",
     "text": [
      "Steering: -1.0, Gyro: 1540\n",
      "Steering: -0.8, Gyro: 1684\n",
      "Steering: -0.6, Gyro: 1170\n",
      "Steering: -0.4, Gyro: 658\n",
      "Steering: -0.2, Gyro: 270\n",
      "Steering: -0.0, Gyro: -246\n",
      "Steering: 0.2, Gyro: -587\n",
      "Steering: 0.4, Gyro: -1163\n",
      "Steering: 0.6, Gyro: -1477\n",
      "Steering: 0.8, Gyro: -2042\n",
      "Steering: 1.0, Gyro: -2387\n"
     ]
    }
   ],
   "source": [
    "import numpy as np\n",
    "import time\n",
    "\n",
    "# 데이터셋 초기화: 'gyro'와 'steer' 키를 가진 빈 리스트를 포함\n",
    "dataset = {\n",
    "    'gyro': [],\n",
    "    'steer': []\n",
    "}\n",
    "\n",
    "# -1부터 1.0까지 0.2 간격으로 n 값을 반복\n",
    "for n in np.arange(-1, 1.1, 0.2):\n",
    "    n = round(n, 1)  # n 값을 소수점 첫째 자리로 반올림\n",
    "    \n",
    "    try:\n",
    "        Car.steering = n  # Car의 조향 각도를 n으로 설정\n",
    "        Car.forward(50)     # Car를 앞으로 이동\n",
    "        time.sleep(0.5)  # 0.5초 대기\n",
    "        \n",
    "        m = Car.getGyro('z')  # z축 자이로 값을 가져옴\n",
    "        time.sleep(0.5)        # 0.5초 대기\n",
    "        \n",
    "        Car.backward()    # Car를 뒤로 이동\n",
    "        time.sleep(1)     # 1초 대기\n",
    "        Car.stop()        # Car 정지\n",
    "        \n",
    "        # 수집된 자이로 값과 조향 각도를 데이터셋에 추가\n",
    "        dataset['gyro'].append(m)\n",
    "        dataset['steer'].append(n)\n",
    "        \n",
    "        # 각 반복에 대한 출력 (현재 상태 출력)\n",
    "        print(f\"Steering: {n}, Gyro: {m}\")\n",
    "        \n",
    "    except KeyboardInterrupt:\n",
    "        # 사용자에 의해 프로그램이 중단된 경우\n",
    "        print(\"Program interrupted by user.\")\n",
    "        break  # 루프를 종료\n"
   ]
  },
  {
   "cell_type": "code",
   "execution_count": 4,
   "metadata": {},
   "outputs": [
    {
     "name": "stdout",
     "output_type": "stream",
     "text": [
      "100 step loss: 24882.01171875\n",
      "200 step loss: 2697.03515625\n",
      "300 step loss: 136.9823760986328\n",
      "400 step loss: 3.3388772010803223\n",
      "500 step loss: 0.2536528408527374\n",
      "600 step loss: 0.22330155968666077\n",
      "700 step loss: 0.22317956387996674\n",
      "800 step loss: 0.22317300736904144\n",
      "900 step loss: 0.22316598892211914\n",
      "1000 step loss: 0.2231583595275879\n",
      "1100 step loss: 0.22315005958080292\n",
      "1200 step loss: 0.223141148686409\n",
      "1300 step loss: 0.22313156723976135\n",
      "1400 step loss: 0.22312131524085999\n",
      "1500 step loss: 0.2231103479862213\n",
      "1600 step loss: 0.22309866547584534\n",
      "1700 step loss: 0.22308625280857086\n",
      "1800 step loss: 0.22307302057743073\n",
      "1900 step loss: 0.22305895388126373\n",
      "2000 step loss: 0.22304411232471466\n",
      "2100 step loss: 0.22302831709384918\n",
      "2200 step loss: 0.22301162779331207\n",
      "2300 step loss: 0.22299398481845856\n",
      "2400 step loss: 0.22297531366348267\n",
      "2500 step loss: 0.2229556441307068\n",
      "2600 step loss: 0.22293482720851898\n",
      "2700 step loss: 0.22291289269924164\n",
      "2800 step loss: 0.2228897213935852\n",
      "2900 step loss: 0.22286534309387207\n",
      "3000 step loss: 0.22283963859081268\n",
      "3100 step loss: 0.22281251847743988\n",
      "3200 step loss: 0.22278398275375366\n",
      "3300 step loss: 0.22275394201278687\n",
      "3400 step loss: 0.22272224724292755\n",
      "3500 step loss: 0.22268900275230408\n",
      "3600 step loss: 0.22265391051769257\n",
      "3700 step loss: 0.2226170152425766\n",
      "3800 step loss: 0.2225782871246338\n",
      "3900 step loss: 0.22253747284412384\n",
      "4000 step loss: 0.22249455749988556\n",
      "4100 step loss: 0.2224494367837906\n",
      "4200 step loss: 0.22240199148654938\n",
      "4300 step loss: 0.22235208749771118\n",
      "4400 step loss: 0.22229968011379242\n",
      "4500 step loss: 0.22224460542201996\n",
      "4600 step loss: 0.22218669950962067\n",
      "4700 step loss: 0.22212587296962738\n",
      "4800 step loss: 0.22206193208694458\n",
      "4900 step loss: 0.22199474275112152\n",
      "5000 step loss: 0.22192421555519104\n",
      "Training is done.\n",
      "Time spent: 50.8 s\n",
      "Training speed: 98.4 step/s\n"
     ]
    }
   ],
   "source": [
    "from pop import AI\n",
    "import numpy as np\n",
    "\n",
    "# 선형 회귀 모델 초기화: 입력 차원과 출력 차원을 설정\n",
    "LR = AI.Linear_Regression()  # 수정된 인자 이름 사용\n",
    "\n",
    "# 데이터셋에서 X_data와 Y_data 설정 (2차원 배열로 변환)\n",
    "LR.X_data = np.array(dataset['gyro']).reshape(-1, 1)  # (n_samples, n_features)\n",
    "LR.Y_data = np.array(dataset['steer']).reshape(-1, 1)  # (n_samples, n_features)\n",
    "\n",
    "# 모델 학습: 5000회 반복, 100회마다 출력\n",
    "LR.train(times=5000, print_every=100)\n"
   ]
  },
  {
   "cell_type": "code",
   "execution_count": 5,
   "metadata": {},
   "outputs": [
    {
     "name": "stdout",
     "output_type": "stream",
     "text": [
      "[[1.5671662]]\n"
     ]
    }
   ],
   "source": [
    "value = LR.run([0])  # run() 메서드를 호출\n",
    "print(value)"
   ]
  },
  {
   "cell_type": "code",
   "execution_count": 6,
   "metadata": {},
   "outputs": [
    {
     "name": "stdout",
     "output_type": "stream",
     "text": [
      "Warning : This value is out of range -1.0 to 1.0. It was adjusted to maximum.\n"
     ]
    }
   ],
   "source": [
    "# value에서 첫 번째 요소를 가져와 Car의 조향 각도로 설정\n",
    "Car.steering = value[0]  # value[0]이 유효한 값인지 확인 필요\n",
    "Car.forward()  # Car를 앞으로 이동"
   ]
  },
  {
   "cell_type": "code",
   "execution_count": 7,
   "metadata": {},
   "outputs": [],
   "source": [
    "Car.stop()"
   ]
  }
 ],
 "metadata": {
  "kernelspec": {
   "display_name": "Python 3",
   "language": "python",
   "name": "python3"
  },
  "language_info": {
   "codemirror_mode": {
    "name": "ipython",
    "version": 3
   },
   "file_extension": ".py",
   "mimetype": "text/x-python",
   "name": "python",
   "nbconvert_exporter": "python",
   "pygments_lexer": "ipython3",
   "version": "3.6.9"
  }
 },
 "nbformat": 4,
 "nbformat_minor": 4
}
