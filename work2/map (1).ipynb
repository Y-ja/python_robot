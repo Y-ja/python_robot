{
 "cells": [
  {
   "cell_type": "code",
   "execution_count": null,
   "metadata": {},
   "outputs": [],
   "source": [
    "from pop import LiDAR\n",
    "\n",
    "lidar = LiDAR.Rplidar()\n",
    "\n",
    "lidar.connect()\n",
    "lidar.startMotor()  # 모터 시작\n",
    "\n",
    "vectors = lidar.getVectors()  # 벡터 데이터 가져오기\n",
    "\n",
    "# 각도만 출력\n",
    "for v in vectors:\n",
    "    angle = v[1]  # 각도는 보통 벡터의 두 번째 요소입니다\n",
    "    print(angle)\n",
    "\n",
    "lidar.stopMotor()  # 모터 중지\n",
    "# lidar.disconnect()  # 연결 종료 메소드가 없으므로 주석 처리\n"
   ]
  },
  {
   "cell_type": "code",
   "execution_count": null,
   "metadata": {},
   "outputs": [
    {
     "name": "stderr",
     "output_type": "stream",
     "text": [
      "/usr/local/lib/python3.6/dist-packages/numba/errors.py:137: UserWarning: Insufficiently recent colorama version found. Numba requires colorama >= 0.3.9\n",
      "  warnings.warn(msg)\n"
     ]
    }
   ],
   "source": [
    "from pop.Util import imshow\n",
    "\n",
    "lidar_map = lidar.getMap(limit_distance=2000, size=(200, 300))  # 철자 수정 및 튜플로 수정\n",
    "imshow(\"map\", lidar_map)\n"
   ]
  },
  {
   "cell_type": "code",
   "execution_count": null,
   "metadata": {},
   "outputs": [],
   "source": []
  }
 ],
 "metadata": {
  "kernelspec": {
   "display_name": "Python 3",
   "language": "python",
   "name": "python3"
  },
  "language_info": {
   "codemirror_mode": {
    "name": "ipython",
    "version": 3
   },
   "file_extension": ".py",
   "mimetype": "text/x-python",
   "name": "python",
   "nbconvert_exporter": "python",
   "pygments_lexer": "ipython3",
   "version": "3.6.9"
  }
 },
 "nbformat": 4,
 "nbformat_minor": 4
}
