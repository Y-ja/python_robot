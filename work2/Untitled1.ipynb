{
 "cells": [
  {
   "cell_type": "code",
   "execution_count": 7,
   "metadata": {},
   "outputs": [],
   "source": [
    "from pop import LiDAR, Pilot  # Pilot의 철자 수정\n",
    "\n",
    "lidar = LiDAR.Rplidar()  # LiDAR 객체 생성\n",
    "car = Pilot.AutoCar()  # AutoCar 객체 생성\n",
    "\n",
    "lidar.connect()\n",
    "lidar.startMotor()\n",
    "\n",
    "car.setSpeed(99)  # 자동차 속도 99\n",
    "car.steering = 0  # 조향장치를 가운데\n",
    "\n",
    "try:\n",
    "    while True:\n",
    "        no_collision = True\n",
    "        vectors = lidar.getVectors()\n",
    "\n",
    "        for v in vectors:\n",
    "            degree = v[0]\n",
    "            distance = v[1]\n",
    "\n",
    "            if degree <= 60 or degree >= 300:\n",
    "                if distance <= 700:\n",
    "                    no_collision = False\n",
    "\n",
    "        if no_collision:\n",
    "            car.setSpeed(99)\n",
    "            car.forward()  # 'forword' 오타 수정\n",
    "        else:\n",
    "            if car.steering == 0:\n",
    "                car.stop()\n",
    "            car.steering = -1  # '=='를 '='로 수정\n",
    "            car.backward(50)\n",
    "except KeyboardInterrupt:\n",
    "    car.stop()  # Ctrl+C로 종료 시 정지\n",
    "finally:\n",
    "    lidar.stopMotor()\n",
    "\n"
   ]
  },
  {
   "cell_type": "code",
   "execution_count": 22,
   "metadata": {},
   "outputs": [
    {
     "name": "stdout",
     "output_type": "stream",
     "text": [
      "이미지 높이: 480 픽셀\n",
      "이미지 너비: 640 픽셀\n",
      "채널 수: 3\n"
     ]
    },
    {
     "data": {
      "application/vnd.jupyter.widget-view+json": {
       "model_id": "51e66d188b91465eb8a640b93973be7e",
       "version_major": 2,
       "version_minor": 0
      },
      "text/plain": [
       "Image(value=b'\\xff\\xd8\\xff\\xe0\\x00\\x10JFIF\\x00\\x01\\x01\\x00\\x00\\x01\\x00\\x01\\x00\\x00\\xff\\xdb\\x00C\\x00\\x02\\x01\\x0…"
      ]
     },
     "metadata": {},
     "output_type": "display_data"
    },
    {
     "ename": "KeyboardInterrupt",
     "evalue": "",
     "output_type": "error",
     "traceback": [
      "\u001b[0;31m---------------------------------------------------------------------------\u001b[0m",
      "\u001b[0;31mKeyboardInterrupt\u001b[0m                         Traceback (most recent call last)",
      "\u001b[0;32m<ipython-input-22-dccae87b91c6>\u001b[0m in \u001b[0;36m<module>\u001b[0;34m\u001b[0m\n\u001b[1;32m     17\u001b[0m     \u001b[0;31m# 이미지 표시\u001b[0m\u001b[0;34m\u001b[0m\u001b[0;34m\u001b[0m\u001b[0;34m\u001b[0m\u001b[0m\n\u001b[1;32m     18\u001b[0m     \u001b[0mcv2\u001b[0m\u001b[0;34m.\u001b[0m\u001b[0mimshow\u001b[0m\u001b[0;34m(\u001b[0m\u001b[0;34m\"Loaded Image\"\u001b[0m\u001b[0;34m,\u001b[0m \u001b[0mimg\u001b[0m\u001b[0;34m)\u001b[0m\u001b[0;34m\u001b[0m\u001b[0;34m\u001b[0m\u001b[0m\n\u001b[0;32m---> 19\u001b[0;31m     \u001b[0mcv2\u001b[0m\u001b[0;34m.\u001b[0m\u001b[0mwaitKey\u001b[0m\u001b[0;34m(\u001b[0m\u001b[0;36m0\u001b[0m\u001b[0;34m)\u001b[0m  \u001b[0;31m# 키 입력 대기\u001b[0m\u001b[0;34m\u001b[0m\u001b[0;34m\u001b[0m\u001b[0m\n\u001b[0m\u001b[1;32m     20\u001b[0m     \u001b[0mcv2\u001b[0m\u001b[0;34m.\u001b[0m\u001b[0mdestroyAllWindows\u001b[0m\u001b[0;34m(\u001b[0m\u001b[0;34m)\u001b[0m  \u001b[0;31m# 모든 윈도우 종료\u001b[0m\u001b[0;34m\u001b[0m\u001b[0;34m\u001b[0m\u001b[0m\n\u001b[1;32m     21\u001b[0m \u001b[0;32melse\u001b[0m\u001b[0;34m:\u001b[0m\u001b[0;34m\u001b[0m\u001b[0;34m\u001b[0m\u001b[0m\n",
      "\u001b[0;31mKeyboardInterrupt\u001b[0m: "
     ]
    }
   ],
   "source": [
    "import cv2\n",
    "from pop import Util\n",
    "\n",
    "# 이미지 읽기\n",
    "img = cv2.imread(\"img.jpg\", cv2.IMREAD_COLOR)\n",
    "\n",
    "# 이미지가 제대로 읽혔는지 확인\n",
    "if img is not None:\n",
    "    # 이미지의 높이, 너비, 채널 수 추출\n",
    "    height, width, channels = img.shape\n",
    "    \n",
    "    # 결과 출력\n",
    "    print(f\"이미지 높이: {height} 픽셀\")\n",
    "    print(f\"이미지 너비: {width} 픽셀\")\n",
    "    print(f\"채널 수: {channels}\")\n",
    "\n",
    "    # 이미지 표시\n",
    "    cv2.imshow(\"Loaded Image\", img)\n",
    "    cv2.waitKey(0)  # 키 입력 대기\n",
    "    cv2.destroyAllWindows()  # 모든 윈도우 종료\n",
    "else:\n",
    "    print(\"이미지를 읽을 수 없습니다. 파일 경로를 확인하세요.\")\n"
   ]
  },
  {
   "cell_type": "code",
   "execution_count": 18,
   "metadata": {},
   "outputs": [
    {
     "data": {
      "application/vnd.jupyter.widget-view+json": {
       "model_id": "c8cd85a2341742c7a12fb2e1835ca928",
       "version_major": 2,
       "version_minor": 0
      },
      "text/plain": [
       "Image(value=b'\\xff\\xd8\\xff\\xe0\\x00\\x10JFIF\\x00\\x01\\x01\\x00\\x00\\x01\\x00\\x01\\x00\\x00\\xff\\xdb\\x00C\\x00\\x02\\x01\\x0…"
      ]
     },
     "metadata": {},
     "output_type": "display_data"
    },
    {
     "data": {
      "application/vnd.jupyter.widget-view+json": {
       "model_id": "13264630490040548f0d583fff60d010",
       "version_major": 2,
       "version_minor": 0
      },
      "text/plain": [
       "Image(value=b'\\xff\\xd8\\xff\\xe0\\x00\\x10JFIF\\x00\\x01\\x01\\x00\\x00\\x01\\x00\\x01\\x00\\x00\\xff\\xdb\\x00C\\x00\\x02\\x01\\x0…"
      ]
     },
     "metadata": {},
     "output_type": "display_data"
    }
   ],
   "source": [
    "import cv2\n",
    "from pop import Util\n",
    "\n",
    "Util.enable_imshow()\n",
    "\n",
    "filename = \"img.jpg\"\n",
    "\n",
    "# 이미지 읽기\n",
    "imgColor = cv2.imread(filename, cv2.IMREAD_COLOR)\n",
    "imgGray = cv2.imread(filename, cv2.IMREAD_GRAYSCALE)  # IMREAD_GRAYCALE을 IMREAD_GRAYSCALE로 수정\n",
    "\n",
    "# 이미지가 제대로 읽혔는지 확인\n",
    "if imgColor is not None and imgGray is not None:\n",
    "    cv2.imshow(\"Color\", imgColor)\n",
    "    cv2.imshow(\"GrayScale\", imgGray)\n",
    "    cv2.waitKey(0)  # 키 입력 대기\n",
    "    cv2.destroyAllWindows()  # 모든 윈도우 종료\n",
    "else:\n",
    "    print(\"이미지를 읽을 수 없습니다. 파일 경로를 확인하세요.\")\n"
   ]
  },
  {
   "cell_type": "code",
   "execution_count": null,
   "metadata": {},
   "outputs": [
    {
     "data": {
      "application/vnd.jupyter.widget-view+json": {
       "model_id": "8cb67653b1104513a94953f411edb6db",
       "version_major": 2,
       "version_minor": 0
      },
      "text/plain": [
       "Image(value=b'\\xff\\xd8\\xff\\xe0\\x00\\x10JFIF\\x00\\x01\\x01\\x00\\x00\\x01\\x00\\x01\\x00\\x00\\xff\\xdb\\x00C\\x00\\x02\\x01\\x0…"
      ]
     },
     "metadata": {},
     "output_type": "display_data"
    },
    {
     "data": {
      "application/vnd.jupyter.widget-view+json": {
       "model_id": "8ac05845474743a9ab78aa4967a0c6e9",
       "version_major": 2,
       "version_minor": 0
      },
      "text/plain": [
       "Image(value=b'\\xff\\xd8\\xff\\xe0\\x00\\x10JFIF\\x00\\x01\\x01\\x00\\x00\\x01\\x00\\x01\\x00\\x00\\xff\\xdb\\x00C\\x00\\x02\\x01\\x0…"
      ]
     },
     "metadata": {},
     "output_type": "display_data"
    }
   ],
   "source": [
    "import cv2\n",
    "from pop import Util\n",
    "\n",
    "Util.enable_imshow()\n",
    "\n",
    "# 원본 이미지 읽기\n",
    "imgOrigin = cv2.imread(\"img.jpg\", cv2.IMREAD_COLOR)\n",
    "\n",
    "# 채널 분리\n",
    "b, g, r = cv2.split(imgOrigin)\n",
    "\n",
    "# R, G, B 순서로 재합치기\n",
    "imgNew = cv2.merge([r, g, b])\n",
    "\n",
    "# 이미지 표시\n",
    "cv2.imshow(\"Original Image\", imgOrigin)\n",
    "cv2.imshow(\"RGB Image\", imgNew)\n",
    "cv2.waitKey(0)  # 키 입력 대기\n",
    "cv2.destroyAllWindows()  # 모든 윈도우 종료\n"
   ]
  },
  {
   "cell_type": "code",
   "execution_count": null,
   "metadata": {},
   "outputs": [],
   "source": [
    "import cv2\n",
    "from pop import Util\n",
    "\n",
    "Util.enable_imshow()\n",
    "\n",
    "# 카메라 설정: 해상도 640x480\n",
    "cam = Util.gstrmer(width=640, height=480)\n",
    "\n",
    "# 카메라 캡처 객체 생성\n",
    "camera = cv2.VideoCapture(cam, cv2.CAP_GSTREAMER)  # CAP_GSTREMER → CAP_GSTREAMER\n",
    "\n",
    "# 카메라 열기 확인\n",
    "if not camera.isOpened():\n",
    "    print(\"Not Found Camera\")\n",
    "    exit()\n",
    "\n",
    "# 초기 너비와 높이 가져오기\n",
    "width = camera.get(cv2.CAP_PROP_FRAME_WIDTH)\n",
    "height = camera.get(cv2.CAP_PROP_FRAME_HEIGHT)\n",
    "print(\"init width : %d, init height : %d\" % (width, height))\n",
    "\n",
    "# 120 프레임 읽기\n",
    "for _ in range(120):\n",
    "    ret, frame = camera.read()\n",
    "    if not ret:\n",
    "        break\n",
    "    cv2.imshow(\"soda\", frame)\n",
    "\n",
    "# 리소스 해제\n",
    "camera.release()\n",
    "cv2.destroyAllWindows()\n"
   ]
  },
  {
   "cell_type": "code",
   "execution_count": null,
   "metadata": {},
   "outputs": [],
   "source": []
  }
 ],
 "metadata": {
  "kernelspec": {
   "display_name": "Python 3",
   "language": "python",
   "name": "python3"
  },
  "language_info": {
   "codemirror_mode": {
    "name": "ipython",
    "version": 3
   },
   "file_extension": ".py",
   "mimetype": "text/x-python",
   "name": "python",
   "nbconvert_exporter": "python",
   "pygments_lexer": "ipython3",
   "version": "3.6.9"
  }
 },
 "nbformat": 4,
 "nbformat_minor": 4
}
