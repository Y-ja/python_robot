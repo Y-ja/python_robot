{
 "cells": [
  {
   "cell_type": "code",
   "execution_count": null,
   "metadata": {},
   "outputs": [],
   "source": [
    "import cv2\n",
    "from pop import Util\n",
    "\n",
    "Util.enable_imshow()\n",
    "\n",
    "filename = \"img.jpg\"\n",
    "\n",
    "# 이미지 읽기\n",
    "imgColor = cv2.imread(filename, cv2.IMREAD_COLOR)\n",
    "imgGray = cv2.imread(filename, cv2.IMREAD_GRAYSCALE)\n",
    "\n",
    "# 이미지가 제대로 읽혔는지 확인\n",
    "if imgColor is not None and imgGray is not None:\n",
    "    # 이미지를 파일로 저장\n",
    "    cv2.imwrite(\"saved_color_image.jpg\", imgColor)  # 컬러 이미지 저장\n",
    "    cv2.imwrite(\"saved_gray_image.jpg\", imgGray)    # 그레이스케일 이미지 저장\n",
    "else:\n",
    "    print(\"이미지를 읽을 수 없습니다. 파일 경로를 확인하세요.\")\n"
   ]
  },
  {
   "cell_type": "code",
   "execution_count": 42,
   "metadata": {},
   "outputs": [
    {
     "name": "stdout",
     "output_type": "stream",
     "text": [
      "init width : 640, init height : 480\n"
     ]
    },
    {
     "data": {
      "application/vnd.jupyter.widget-view+json": {
       "model_id": "c1e976d9b0c7488780a967352d1001de",
       "version_major": 2,
       "version_minor": 0
      },
      "text/plain": [
       "Image(value=b'\\xff\\xd8\\xff\\xe0\\x00\\x10JFIF\\x00\\x01\\x01\\x00\\x00\\x01\\x00\\x01\\x00\\x00\\xff\\xdb\\x00C\\x00\\x02\\x01\\x0…"
      ]
     },
     "metadata": {},
     "output_type": "display_data"
    }
   ],
   "source": [
    "import cv2\n",
    "from pop import Util\n",
    "\n",
    "Util.enable_imshow()\n",
    "\n",
    "# 카메라 설정: 해상도 640x480\n",
    "cam = Util.gstrmer(width=640, height=480)\n",
    "\n",
    "# 카메라 캡처 객체 생성\n",
    "camera = cv2.VideoCapture(cam, cv2.CAP_GSTREAMER)  # 올바른 속성으로 수정\n",
    "\n",
    "# 카메라 열기 확인\n",
    "if not camera.isOpened():\n",
    "    print(\"Not Found Camera\")\n",
    "    exit()\n",
    "\n",
    "# 초기 너비와 높이 가져오기\n",
    "width = int(camera.get(cv2.CAP_PROP_FRAME_WIDTH))\n",
    "height = int(camera.get(cv2.CAP_PROP_FRAME_HEIGHT))\n",
    "print(\"init width : %d, init height : %d\" % (width, height))\n",
    "\n",
    "# 120 프레임 읽기\n",
    "for _ in range(120):\n",
    "    ret, frame = camera.read()\n",
    "    if not ret:\n",
    "        print(\"프레임을 가져올 수 없습니다.\")\n",
    "        break\n",
    "    cv2.imshow(\"soda\", frame)\n",
    "\n",
    "# 리소스 해제\n",
    "camera.release()\n",
    "cv2.destroyAllWindows()\n"
   ]
  },
  {
   "cell_type": "code",
   "execution_count": 43,
   "metadata": {},
   "outputs": [
    {
     "name": "stdout",
     "output_type": "stream",
     "text": [
      "init width : 640, init height : 480\n"
     ]
    },
    {
     "data": {
      "application/vnd.jupyter.widget-view+json": {
       "model_id": "c1e976d9b0c7488780a967352d1001de",
       "version_major": 2,
       "version_minor": 0
      },
      "text/plain": [
       "Image(value=b'\\xff\\xd8\\xff\\xe0\\x00\\x10JFIF\\x00\\x01\\x01\\x00\\x00\\x01\\x00\\x01\\x00\\x00\\xff\\xdb\\x00C\\x00\\x02\\x01\\x0…"
      ]
     },
     "metadata": {},
     "output_type": "display_data"
    }
   ],
   "source": [
    "import cv2\n",
    "from pop import Util, Pilot \n",
    "\n",
    "# AutoCar 객체 생성\n",
    "Car = Pilot.AutoCar()\n",
    "\n",
    "\n",
    "Util.enable_imshow()\n",
    "\n",
    "# 카메라 설정: 해상도 640x480\n",
    "cam = Util.gstrmer(width=640, height=480)\n",
    "\n",
    "# 카메라 캡처 객체 생성\n",
    "camera = cv2.VideoCapture(cam, cv2.CAP_GSTREAMER)  # 올바른 속성으로 수정\n",
    "\n",
    "# 카메라 열기 확인\n",
    "if not camera.isOpened():\n",
    "    print(\"Not Found Camera\")\n",
    "    exit()\n",
    "\n",
    "# 초기 너비와 높이 가져오기\n",
    "width = int(camera.get(cv2.CAP_PROP_FRAME_WIDTH))\n",
    "height = int(camera.get(cv2.CAP_PROP_FRAME_HEIGHT))\n",
    "print(\"init width : %d, init height : %d\" % (width, height))\n",
    "\n",
    "# 120 프레임 읽기\n",
    "for _ in range(120):\n",
    "    ret, frame = camera.read()\n",
    "    Car.camPan(_)\n",
    "    if not ret:\n",
    "        print(\"프레임을 가져올 수 없습니다.\")\n",
    "        break\n",
    "    cv2.imshow(\"soda\", frame)\n",
    "\n",
    "# 리소스 해제\n",
    "camera.release()\n",
    "cv2.destroyAllWindows()\n"
   ]
  },
  {
   "cell_type": "code",
   "execution_count": 37,
   "metadata": {},
   "outputs": [
    {
     "name": "stdout",
     "output_type": "stream",
     "text": [
      "초기 너비 : 640, 초기 높이 : 480\n"
     ]
    },
    {
     "data": {
      "application/vnd.jupyter.widget-view+json": {
       "model_id": "c1e976d9b0c7488780a967352d1001de",
       "version_major": 2,
       "version_minor": 0
      },
      "text/plain": [
       "Image(value=b'\\xff\\xd8\\xff\\xe0\\x00\\x10JFIF\\x00\\x01\\x01\\x00\\x00\\x01\\x00\\x01\\x00\\x00\\xff\\xdb\\x00C\\x00\\x02\\x01\\x0…"
      ]
     },
     "metadata": {},
     "output_type": "display_data"
    }
   ],
   "source": [
    "import cv2\n",
    "import time\n",
    "from pop import Util, Pilot \n",
    "\n",
    "# AutoCar 객체 생성\n",
    "Car = Pilot.AutoCar()\n",
    "\n",
    "Util.enable_imshow()\n",
    "\n",
    "# 카메라 설정: 해상도 640x480\n",
    "cam = Util.gstrmer(width=640, height=480)\n",
    "\n",
    "# 카메라 캡처 객체 생성\n",
    "camera = cv2.VideoCapture(cam, cv2.CAP_GSTREAMER)\n",
    "\n",
    "# 카메라 열기 확인\n",
    "if not camera.isOpened():\n",
    "    print(\"카메라를 찾을 수 없습니다.\")\n",
    "    exit()\n",
    "\n",
    "# 초기 너비와 높이 가져오기\n",
    "width = int(camera.get(cv2.CAP_PROP_FRAME_WIDTH))\n",
    "height = int(camera.get(cv2.CAP_PROP_FRAME_HEIGHT))\n",
    "print(\"초기 너비 : %d, 초기 높이 : %d\" % (width, height))\n",
    "\n",
    "# 120 프레임 읽기\n",
    "for _ in range(120):\n",
    "    ret, frame = camera.read()\n",
    "    \n",
    "    if not ret:\n",
    "        print(\"프레임을 가져올 수 없습니다.\")\n",
    "        break\n",
    "\n",
    "    # 왼쪽으로 회전\n",
    "    Car.camPan(-1)  # 왼쪽으로 돌아가기 위해 음수값 사용\n",
    "\n",
    "    # 프레임을 보여주기 전에 잠시 대기\n",
    "    time.sleep(0.1)  # 0.1초 대기 (필요에 따라 조정 가능)\n",
    "\n",
    "    cv2.imshow(\"soda\", frame)\n",
    "\n",
    "# 리소스 해제\n",
    "camera.release()\n",
    "cv2.destroyAllWindows()\n"
   ]
  },
  {
   "cell_type": "code",
   "execution_count": 59,
   "metadata": {},
   "outputs": [
    {
     "name": "stdout",
     "output_type": "stream",
     "text": [
      "초기 너비: 640, 초기 높이: 480\n"
     ]
    },
    {
     "data": {
      "application/vnd.jupyter.widget-view+json": {
       "model_id": "c1e976d9b0c7488780a967352d1001de",
       "version_major": 2,
       "version_minor": 0
      },
      "text/plain": [
       "Image(value=b'\\xff\\xd8\\xff\\xe0\\x00\\x10JFIF\\x00\\x01\\x01\\x00\\x00\\x01\\x00\\x01\\x00\\x00\\xff\\xdb\\x00C\\x00\\x02\\x01\\x0…"
      ]
     },
     "metadata": {},
     "output_type": "display_data"
    },
    {
     "name": "stdout",
     "output_type": "stream",
     "text": [
      "프로그램이 중단되었습니다.\n"
     ]
    }
   ],
   "source": [
    "import cv2\n",
    "from pop import Util, Pilot\n",
    "\n",
    "# AutoCar 객체 생성\n",
    "car = Pilot.AutoCar()\n",
    "\n",
    "Util.enable_imshow()\n",
    "\n",
    "# 카메라 설정: 해상도 640x480\n",
    "cam = Util.gstrmer(width=640, height=480)\n",
    "\n",
    "# 카메라 캡처 객체 생성\n",
    "camera = cv2.VideoCapture(cam, cv2.CAP_GSTREAMER)\n",
    "if not camera.isOpened():\n",
    "    print(\"카메라를 찾을 수 없습니다.\")\n",
    "    exit()\n",
    "\n",
    "# 초기 너비와 높이 가져오기\n",
    "width = camera.get(cv2.CAP_PROP_FRAME_WIDTH)\n",
    "height = camera.get(cv2.CAP_PROP_FRAME_HEIGHT)\n",
    "print(\"초기 너비: %d, 초기 높이: %d\" % (width, height))\n",
    "\n",
    "# 각도 및 방향 초기화\n",
    "angle_p = 3\n",
    "angle_t = -30\n",
    "direction_p = 1\n",
    "direction_t = 1\n",
    "\n",
    "# 프레임을 계속해서 읽기\n",
    "try:\n",
    "    while True:\n",
    "        ret, frame = camera.read()\n",
    "        \n",
    "        if not ret:\n",
    "            print(\"프레임을 가져올 수 없습니다.\")\n",
    "            break\n",
    "\n",
    "        # 카메라 패닝 및 기울이기\n",
    "        car.camPan(angle_p)\n",
    "        car.camTilt(angle_t)\n",
    "        cv2.imshow(\"soda\", frame)\n",
    "        \n",
    "        # 각도 업데이트\n",
    "        angle_p += direction_p\n",
    "        angle_t += direction_t\n",
    "        \n",
    "        # 패닝 각도 변경\n",
    "        if angle_p >= 180:\n",
    "            direction_p = -1\n",
    "        elif angle_p <= 4:\n",
    "            direction_p = 1\n",
    "            \n",
    "        # 기울이기 각도 변경\n",
    "        if angle_t >= 90:\n",
    "            direction_t = -1\n",
    "        elif angle_t <= -30:\n",
    "            direction_t = 1\n",
    "\n",
    "        # 스페이스바를 눌렀을 때 종료\n",
    "        key = cv2.waitKey(1)\n",
    "        if key == 32:  # 스페이스바의 ASCII 값\n",
    "            break\n",
    "\n",
    "except KeyboardInterrupt:\n",
    "    print(\"프로그램이 중단되었습니다.\")\n",
    "\n",
    "finally:\n",
    "    # 리소스 해제\n",
    "    camera.release()\n",
    "    cv2.destroyAllWindows()\n"
   ]
  },
  {
   "cell_type": "code",
   "execution_count": 60,
   "metadata": {},
   "outputs": [
    {
     "name": "stdout",
     "output_type": "stream",
     "text": [
      "초기 너비 : 640, 초기 높이 : 480\n"
     ]
    },
    {
     "data": {
      "application/vnd.jupyter.widget-view+json": {
       "model_id": "c1e976d9b0c7488780a967352d1001de",
       "version_major": 2,
       "version_minor": 0
      },
      "text/plain": [
       "Image(value=b'\\xff\\xd8\\xff\\xe0\\x00\\x10JFIF\\x00\\x01\\x01\\x00\\x00\\x01\\x00\\x01\\x00\\x00\\xff\\xdb\\x00C\\x00\\x02\\x01\\x0…"
      ]
     },
     "metadata": {},
     "output_type": "display_data"
    },
    {
     "name": "stdout",
     "output_type": "stream",
     "text": [
      "프로그램이 중단되었습니다.\n"
     ]
    }
   ],
   "source": [
    "import cv2\n",
    "from pop import Util, Pilot\n",
    "\n",
    "# AutoCar 객체 생성\n",
    "car = Pilot.AutoCar()\n",
    "\n",
    "Util.enable_imshow()\n",
    "\n",
    "# 카메라 설정: 해상도 640x480\n",
    "cam = Util.gstrmer(width=640, height=480)\n",
    "\n",
    "# 카메라 캡처 객체 생성\n",
    "camera = cv2.VideoCapture(cam, cv2.CAP_GSTREAMER)\n",
    "\n",
    "# 카메라 열기 확인\n",
    "if not camera.isOpened():\n",
    "    print(\"카메라를 찾을 수 없습니다. GStreamer 파이프라인을 확인하세요.\")\n",
    "    exit()\n",
    "\n",
    "# 초기 너비와 높이 가져오기\n",
    "width = int(camera.get(cv2.CAP_PROP_FRAME_WIDTH))\n",
    "height = int(camera.get(cv2.CAP_PROP_FRAME_HEIGHT))\n",
    "print(\"초기 너비 : %d, 초기 높이 : %d\" % (width, height))\n",
    "\n",
    "# 카메라 패닝과 기울이기 초기화\n",
    "angle_p = 3\n",
    "angle_t = -30\n",
    "direction_p = 1\n",
    "direction_t = 1\n",
    "\n",
    "try:\n",
    "    # 프레임을 계속해서 읽기\n",
    "    while True:\n",
    "        ret, frame = camera.read()\n",
    "\n",
    "        if not ret:\n",
    "            print(\"프레임을 가져올 수 없습니다. 카메라 연결 상태를 확인하세요.\")\n",
    "            break\n",
    "\n",
    "        # 카메라 패닝 및 기울이기\n",
    "        car.camPan(angle_p)\n",
    "        car.camTilt(angle_t)\n",
    "        cv2.imshow(\"soda\", frame)\n",
    "\n",
    "        # 각도 업데이트\n",
    "        angle_p += direction_p\n",
    "        angle_t += direction_t\n",
    "\n",
    "        # 패닝 각도 변경\n",
    "        if angle_p >= 180:\n",
    "            direction_p = -1\n",
    "        elif angle_p <= 4:\n",
    "            direction_p = 1\n",
    "\n",
    "        # 기울이기 각도 변경\n",
    "        if angle_t >= 90:\n",
    "            direction_t = -1\n",
    "        elif angle_t <= -30:\n",
    "            direction_t = 1\n",
    "\n",
    "        # 스페이스바를 눌렀을 때 종료\n",
    "        key = cv2.waitKey(1)\n",
    "        if key == 32:  # 스페이스바의 ASCII 값\n",
    "            break\n",
    "\n",
    "except KeyboardInterrupt:\n",
    "    print(\"프로그램이 중단되었습니다.\")\n",
    "\n",
    "finally:\n",
    "    # 리소스 해제\n",
    "    camera.release()\n",
    "    cv2.destroyAllWindows()\n"
   ]
  },
  {
   "cell_type": "code",
   "execution_count": null,
   "metadata": {},
   "outputs": [],
   "source": []
  }
 ],
 "metadata": {
  "kernelspec": {
   "display_name": "Python 3",
   "language": "python",
   "name": "python3"
  },
  "language_info": {
   "codemirror_mode": {
    "name": "ipython",
    "version": 3
   },
   "file_extension": ".py",
   "mimetype": "text/x-python",
   "name": "python",
   "nbconvert_exporter": "python",
   "pygments_lexer": "ipython3",
   "version": "3.6.9"
  }
 },
 "nbformat": 4,
 "nbformat_minor": 4
}
